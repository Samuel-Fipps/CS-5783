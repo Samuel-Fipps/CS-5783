{
  "metadata": {
    "kernelspec": {
      "name": "python",
      "display_name": "Python (Pyodide)",
      "language": "python"
    },
    "language_info": {
      "codemirror_mode": {
        "name": "python",
        "version": 3
      },
      "file_extension": ".py",
      "mimetype": "text/x-python",
      "name": "python",
      "nbconvert_exporter": "python",
      "pygments_lexer": "ipython3",
      "version": "3.8"
    }
  },
  "nbformat_minor": 4,
  "nbformat": 4,
  "cells": [
    {
      "cell_type": "markdown",
      "source": "Part1.1",
      "metadata": {}
    },
    {
      "cell_type": "code",
      "source": "from keras.datasets import mnist\nimport keras \nfrom keras import layers\nimport numpy as np\nfrom keras import optimizers\n\n(x_train, y_train), (x_test, y_test) = mnist.load_data()\n\nnum_classes = 10\ninput_shape = (28, 28, 1)\nmodel = keras.Sequential(\n    [\n        keras.Input(shape=input_shape),\n        layers.Conv2D(10, kernel_size=(3, 3), activation=\"relu\"),\n        layers.Conv2D(20, kernel_size=(3, 3), activation=\"relu\"),\n        layers.Conv2D(30, kernel_size=(3, 3), activation=\"relu\"),\n        layers.Conv2D(40, kernel_size=(3, 3), activation=\"relu\"),\n        layers.Conv2D(50, kernel_size=(3, 3), activation=\"relu\"),\n        layers.Conv2D(60, kernel_size=(3, 3), activation=\"relu\"),\n        layers.Conv2D(70, kernel_size=(3, 3), activation=\"relu\"),\n        layers.Conv2D(80, kernel_size=(3, 3), activation=\"relu\"),\n        layers.Conv2D(90, kernel_size=(3, 3), activation=\"relu\"),\n        layers.Conv2D(100, kernel_size=(3, 3), activation=\"relu\"),\n\n        layers.Flatten(),\n        layers.Dense(num_classes, activation=\"softmax\"),\n    ]\n)\n\n\nx_train = np.expand_dims(x_train, -1)\nx_test = np.expand_dims(x_test, -1)\n\ny_train = keras.utils.to_categorical(y_train, num_classes)\ny_test = keras.utils.to_categorical(y_test, num_classes)\n\n\nbatch_sizes = [16, 32, 64, 128]\nepochs = [5, 10, 20, 50]\nlrs = [0.1, 0.01, 0.001]\n\n\nbatch = 128\nepoch = 25\nlr = .001\n\nAdam = optimizers.Adam(learning_rate=lr)\nSGD = optimizers.SGD(learning_rate=lr)\nRMSProp = optimizers.RMSprop(learning_rate=lr)\n\n\nmodel.compile(loss=\"categorical_crossentropy\", optimizer=Adam, metrics=[\"accuracy\"])\nmodel.fit(x_train, y_train, batch_size=batch, epochs=epoch)\n\nscore = model.evaluate(x_test, y_test, verbose=0)\nprint(\"Test loss:\", score[0])\nprint(\"Test accuracy:\", score[1])\n\n",
      "metadata": {
        "trusted": true
      },
      "execution_count": null,
      "outputs": []
    },
    {
      "cell_type": "markdown",
      "source": "Part1.2",
      "metadata": {}
    },
    {
      "cell_type": "code",
      "source": "from keras.datasets import mnist\nimport keras \nfrom keras import layers\nimport numpy as np\nfrom keras import optimizers\n\n(x_train, y_train), (x_test, y_test) = mnist.load_data()\n\nnum_classes = 10\ninput_shape = (28, 28, 1)\nmodel = keras.Sequential(\n    [\n        keras.Input(shape=input_shape),\n        layers.Conv2D(100, kernel_size=(3, 3), activation=\"relu\"),\n        layers.Conv2D(90, kernel_size=(3, 3), activation=\"relu\"),\n        layers.Conv2D(80, kernel_size=(3, 3), activation=\"relu\"),\n        layers.Conv2D(70, kernel_size=(3, 3), activation=\"relu\"),\n        layers.Conv2D(60, kernel_size=(3, 3), activation=\"relu\"),\n        layers.Conv2D(50, kernel_size=(3, 3), activation=\"relu\"),\n        layers.Conv2D(40, kernel_size=(3, 3), activation=\"relu\"),\n        layers.Conv2D(30, kernel_size=(3, 3), activation=\"relu\"),\n        layers.Conv2D(20, kernel_size=(3, 3), activation=\"relu\"),\n        layers.Conv2D(10, kernel_size=(3, 3), activation=\"relu\"),\n\n        layers.Flatten(),\n        layers.Dense(num_classes, activation=\"softmax\"),\n    ]\n)\n\n\nx_train = np.expand_dims(x_train, -1)\nx_test = np.expand_dims(x_test, -1)\n\ny_train = keras.utils.to_categorical(y_train, num_classes)\ny_test = keras.utils.to_categorical(y_test, num_classes)\n\n\nbatch_sizes = [16, 32, 64, 128]\nepochs = [5, 10, 20, 50]\nlrs = [0.1, 0.01, 0.001]\n\n\nbatch = 128\nepoch = 25\nlr = .001\n\nAdam = optimizers.Adam(learning_rate=lr)\nSGD = optimizers.SGD(learning_rate=lr)\nRMSProp = optimizers.RMSprop(learning_rate=lr)\n\n\nmodel.compile(loss=\"categorical_crossentropy\", optimizer=Adam, metrics=[\"accuracy\"])\nmodel.fit(x_train, y_train, batch_size=batch, epochs=epoch)\n\nscore = model.evaluate(x_test, y_test, verbose=0)\nprint(\"Test loss:\", score[0])\nprint(\"Test accuracy:\", score[1])",
      "metadata": {
        "trusted": true
      },
      "execution_count": null,
      "outputs": []
    },
    {
      "cell_type": "markdown",
      "source": "Part1.3",
      "metadata": {}
    },
    {
      "cell_type": "code",
      "source": "from keras.datasets import mnist\nimport keras \nfrom keras import layers\nimport numpy as np\nfrom keras import optimizers\n\n(x_train, y_train), (x_test, y_test) = mnist.load_data()\n\nnum_classes = 10\ninput_shape = (28, 28, 1)\nmodel = keras.Sequential(\n    [\n        keras.Input(shape=input_shape),\n        layers.Conv2D(10, kernel_size=(3, 3), activation=\"relu\"),\n        layers.Conv2D(20, kernel_size=(3, 3), activation=\"relu\"),\n        layers.Conv2D(30, kernel_size=(3, 3), activation=\"relu\"),\n        layers.Conv2D(40, kernel_size=(3, 3), activation=\"relu\"),\n        layers.Conv2D(50, kernel_size=(3, 3), activation=\"relu\"),\n        layers.Conv2D(50, kernel_size=(3, 3), activation=\"relu\"),\n        layers.Conv2D(40, kernel_size=(3, 3), activation=\"relu\"),\n        layers.Conv2D(30, kernel_size=(3, 3), activation=\"relu\"),\n        layers.Conv2D(20, kernel_size=(3, 3), activation=\"relu\"),\n        layers.Conv2D(10, kernel_size=(3, 3), activation=\"relu\"),\n\n        layers.Flatten(),\n        layers.Dense(num_classes, activation=\"softmax\"),\n    ]\n)\n\n\nx_train = np.expand_dims(x_train, -1)\nx_test = np.expand_dims(x_test, -1)\n\ny_train = keras.utils.to_categorical(y_train, num_classes)\ny_test = keras.utils.to_categorical(y_test, num_classes)\n\n\nbatch_sizes = [16, 32, 64, 128]\nepochs = [5, 10, 20, 50]\nlrs = [0.1, 0.01, 0.001]\n\n\nbatch = 128\nepoch = 25\nlr = .001\n\nAdam = optimizers.Adam(learning_rate=lr)\nSGD = optimizers.SGD(learning_rate=lr)\nRMSProp = optimizers.RMSprop(learning_rate=lr)\n\n\nmodel.compile(loss=\"categorical_crossentropy\", optimizer=Adam, metrics=[\"accuracy\"])\nmodel.fit(x_train, y_train, batch_size=batch, epochs=epoch)\n\nscore = model.evaluate(x_test, y_test, verbose=0)\nprint(\"Test loss:\", score[0])\nprint(\"Test accuracy:\", score[1])\n",
      "metadata": {
        "trusted": true
      },
      "execution_count": null,
      "outputs": []
    },
    {
      "cell_type": "markdown",
      "source": "Part2.1",
      "metadata": {}
    },
    {
      "cell_type": "code",
      "source": "from keras.datasets import cifar10\nimport keras \nfrom keras import layers\nimport numpy as np\nfrom keras import optimizers\n\n(x_train, y_train), (x_test, y_test) = cifar10.load_data()\n\nnum_classes = 10\ninput_shape = (32, 32, 3)\nmodel = keras.Sequential(\n    [\n        keras.Input(shape=input_shape),\n        layers.Conv2D(6, kernel_size=(5, 5), strides=1),\n        layers.MaxPooling2D(pool_size=(2, 2), strides=2),\n        layers.Conv2D(16, kernel_size=(5, 5), strides=1),\n        layers.MaxPooling2D(pool_size=(2, 2), strides=2),\n        layers.Conv2D(120, kernel_size=(5, 5)),\n\n\n\n\n        layers.Flatten(),\n        layers.Dense(84),\n        layers.Dense(num_classes, activation=\"softmax\"),\n    ]\n)\n\n\nx_train = np.expand_dims(x_train, -1)\nx_test = np.expand_dims(x_test, -1)\n\ny_train = keras.utils.to_categorical(y_train, num_classes)\ny_test = keras.utils.to_categorical(y_test, num_classes)\n\n\nbatch_sizes = [16, 32, 64, 128]\nepochs = [5, 10, 20, 50]\nlrs = [0.1, 0.01, 0.001]\n\n\nbatch = 128\nepoch = 100\nlr = 0.001\n\nAdam = optimizers.Adam(learning_rate=lr)\nSGD = optimizers.SGD(learning_rate=lr)\nRMSProp = optimizers.RMSprop(learning_rate=lr)\n\n\nmodel.compile(loss=\"categorical_crossentropy\", optimizer=Adam, metrics=[\"accuracy\"])\nmodel.fit(x_train, y_train, batch_size=batch, epochs=epoch)\n\nscore = model.evaluate(x_test, y_test, verbose=0)\nprint(\"Test loss:\", score[0])\nprint(\"Test accuracy:\", score[1])",
      "metadata": {
        "trusted": true
      },
      "execution_count": null,
      "outputs": []
    },
    {
      "cell_type": "markdown",
      "source": "Part2.3 uses RAdam",
      "metadata": {}
    },
    {
      "cell_type": "code",
      "source": "from keras.datasets import cifar10\nimport keras \nfrom keras import layers\nimport numpy as np\nfrom keras import optimizers\nfrom keras_radam import RAdam\n\n(x_train, y_train), (x_test, y_test) = cifar10.load_data()\n\nnum_classes = 10\ninput_shape = (32, 32, 3)\nmodel = keras.Sequential(\n    [\n        keras.Input(shape=input_shape),\n        layers.Dropout(0.2),\n        layers.Conv2D(128, kernel_size=(5, 5), strides=1, activation=\"relu\"),\n        layers.MaxPooling2D(pool_size=(2, 2), strides=2),\n        layers.Dropout(0.2),\n        layers.Conv2D(256, kernel_size=(5, 5), strides=1, activation=\"relu\"),\n        layers.MaxPooling2D(pool_size=(2, 2), strides=2),\n        layers.Dropout(0.2),\n        layers.Conv2D(512, kernel_size=(5, 5),activation=\"relu\"),\n\n\n\n\n        layers.Flatten(),\n        layers.Dense(84),\n        layers.Dense(num_classes, activation=\"softmax\"),\n    ]\n)\n\n\nx_train = np.expand_dims(x_train, -1)\nx_test = np.expand_dims(x_test, -1)\n\ny_train = keras.utils.to_categorical(y_train, num_classes)\ny_test = keras.utils.to_categorical(y_test, num_classes)\n\n\nbatch_sizes = [16, 32, 64, 128]\nepochs = [5, 10, 20, 50]\nlrs = [0.1, 0.01, 0.001]\n\n\nbatch = 1024\nepoch = 1000\nlr = 0.001\n\nAdam = optimizers.Adam(learning_rate=lr)\nSGD = optimizers.SGD(learning_rate=lr)\nRMSProp = optimizers.RMSprop(learning_rate=lr)\nRMSProp = RAdam(learning_rate=lr)\n\nmodel.compile(loss=\"categorical_crossentropy\", optimizer=Adam, metrics=[\"accuracy\"])\nmodel.fit(x_train, y_train, batch_size=batch, epochs=epoch)\n\nscore = model.evaluate(x_test, y_test, verbose=0)\nprint(\"Test loss:\", score[0])\nprint(\"Test accuracy:\", score[1])",
      "metadata": {},
      "execution_count": null,
      "outputs": []
    },
    {
      "cell_type": "markdown",
      "source": "part2.4",
      "metadata": {}
    },
    {
      "cell_type": "code",
      "source": "from keras.datasets import cifar10\nimport keras \nfrom keras import layers\nimport numpy as np\nfrom keras import optimizers\n\n(x_train, y_train), (x_test, y_test) = cifar10.load_data()\n\nnum_classes = 10\ninput_shape = (32, 32, 3)\nmodel = keras.Sequential(\n    [\n        keras.Input(shape=input_shape),\n        layers.Dense(6,  activation=\"relu\"),\n        layers.MaxPooling2D(pool_size=(2, 2), strides=2),\n        layers.Dense(16,  activation=\"relu\"),\n        layers.MaxPooling2D(pool_size=(2, 2), strides=2),\n        layers.Dense(120 ,activation=\"relu\"),\n\n        layers.Flatten(),\n        layers.Dense(84),\n        layers.Dense(num_classes, activation=\"softmax\"),\n\n    ]\n)\n\nx_train = np.expand_dims(x_train, -1)\nx_test = np.expand_dims(x_test, -1)\n\ny_train = keras.utils.to_categorical(y_train, num_classes)\ny_test = keras.utils.to_categorical(y_test, num_classes)\n\n\nbatch_sizes = [16, 32, 64, 128]\nepochs = [5, 10, 20, 50]\nlrs = [0.1, 0.01, 0.001]\n\n\nbatch = 128\nepoch = 25\nlr = 0.001\n\nAdam = optimizers.Adam(learning_rate=lr)\nSGD = optimizers.SGD(learning_rate=lr)\nRMSProp = optimizers.RMSprop(learning_rate=lr)\n\n\nmodel.compile(loss=\"categorical_crossentropy\", optimizer=Adam, metrics=[\"accuracy\"])\nmodel.fit(x_train, y_train, batch_size=batch, epochs=epoch)\n\nscore = model.evaluate(x_test, y_test, verbose=0)\nprint(\"Test loss:\", score[0])\nprint(\"Test accuracy:\", score[1])",
      "metadata": {
        "trusted": true
      },
      "execution_count": null,
      "outputs": []
    },
    {
      "cell_type": "code",
      "source": "",
      "metadata": {},
      "execution_count": null,
      "outputs": []
    }
  ]
}