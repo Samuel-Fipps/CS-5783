{
  "metadata": {
    "language_info": {
      "codemirror_mode": {
        "name": "python",
        "version": 3
      },
      "file_extension": ".py",
      "mimetype": "text/x-python",
      "name": "python",
      "nbconvert_exporter": "python",
      "pygments_lexer": "ipython3",
      "version": "3.8"
    },
    "kernelspec": {
      "name": "python",
      "display_name": "Python (Pyodide)",
      "language": "python"
    }
  },
  "nbformat_minor": 4,
  "nbformat": 4,
  "cells": [
    {
      "cell_type": "code",
      "source": "import cv2   \nimport numpy as np\nimg = cv2.imread(\"test.png\")  \n\na = np.array((255, 0, 0))\nb = np.array((0, 255, 0))\nc = np.array((0, 0, 255))",
      "metadata": {
        "trusted": true
      },
      "execution_count": 1,
      "outputs": []
    },
    {
      "cell_type": "code",
      "source": "for i in range(img.shape[0]):\n    for j in range(img.shape[1]):\n\n        dist0 = np.sqrt(np.sum(np.square(a-img[i][j])))\n        dist1 = np.sqrt(np.sum(np.square(b-img[i][j])))\n        dist2 = np.sqrt(np.sum(np.square(c-img[i][j])))\n\n        if dist0 < dist1 and dist0 < dist2:\n            img[i][j] = a\n\n        elif dist1 < dist0 and dist1 < dist2:\n            img[i][j] = b\n\n        elif dist2 < dist0 and dist2 < dist1:\n            img[i][j] = c\n            \ncv2.imwrite(\"output1.png\", img)   ",
      "metadata": {
        "trusted": true
      },
      "execution_count": 2,
      "outputs": [
        {
          "execution_count": 2,
          "output_type": "execute_result",
          "data": {
            "text/plain": "True"
          },
          "metadata": {}
        }
      ]
    },
    {
      "cell_type": "code",
      "source": "d = np.array((0, 0, 0))\n\nprint(img.shape)\ntopleft = int(128/2 -25)\n\nfor i in range(topleft, topleft+50):\n    for j in range(topleft, topleft+50):\n        img[i][j] = d\n\ncv2.imwrite(\"output2.png\", img) ",
      "metadata": {
        "trusted": true
      },
      "execution_count": 3,
      "outputs": [
        {
          "name": "stdout",
          "text": "(128, 128, 3)\n",
          "output_type": "stream"
        },
        {
          "execution_count": 3,
          "output_type": "execute_result",
          "data": {
            "text/plain": "True"
          },
          "metadata": {}
        }
      ]
    },
    {
      "cell_type": "code",
      "source": "",
      "metadata": {},
      "execution_count": null,
      "outputs": []
    }
  ]
}