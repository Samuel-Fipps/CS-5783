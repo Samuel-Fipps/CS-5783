{
  "metadata": {
    "language_info": {
      "codemirror_mode": {
        "name": "python",
        "version": 3
      },
      "file_extension": ".py",
      "mimetype": "text/x-python",
      "name": "python",
      "nbconvert_exporter": "python",
      "pygments_lexer": "ipython3",
      "version": "3.8"
    },
    "kernelspec": {
      "name": "python",
      "display_name": "Python (Pyodide)",
      "language": "python"
    }
  },
  "nbformat_minor": 4,
  "nbformat": 4,
  "cells": [
    {
      "cell_type": "code",
      "source": "import numpy as np\nfrom matplotlib import pyplot as plt\n\nfile_data = open('data/Assignment1_Q2_Data.csv') \n\n\ndata = []\ncount = 0\nfor i in file_data:\n    if count != 0:\n        x = i.split(\",\")\n        data.append(x)\n    count += 1\n\n\nLand_area = []\nfor i in data:\n    Land_area.append(i[3])\n\nLiving_area = []\nfor i in data:\n    Living_area.append(i[4])\n\nprice = []\nfor i in data:\n    price.append(i[12])\n\nfor i in range(len(price)-1):\n    price[i] = price[i][ :-1 ]\n\nbathrooms = []\nfor i in data:\n    bathrooms.append(i[2])\nbathrooms = np.array(bathrooms, dtype='float64')\nbathrooms = bathrooms.reshape(1, -1)\n\ngarages = []\nfor i in data:\n    garages.append(i[5])\ngarages = np.array(garages, dtype='float64')\ngarages = garages.reshape(1, -1)\n\nrooms = []\nfor i in data:\n    rooms.append(i[6])\nrooms = np.array(rooms, dtype='float64')\nrooms = rooms.reshape(1, -1)\n\nbedroom = []\nfor i in data:\n    bedroom.append(i[7])\nbedroom = np.array(bedroom, dtype='float64')\nbedroom = bedroom.reshape(1, -1)\n\nage_of_home = []\nfor i in data:\n    age_of_home.append(i[8])\nage_of_home = np.array(age_of_home, dtype='float64')\nage_of_home = age_of_home.reshape(1, -1)\n\ncons = []\nfor i in data:\n    cons.append(i[9])\ncons = np.array(cons, dtype='float64')\ncons = cons.reshape(1, -1)\n\narch = []\nfor i in data:\n    arch.append(i[10])\narch = np.array(arch, dtype='float64')\narch = arch.reshape(1, -1)\n\nfire_place = []\nfor i in data:\n    fire_place.append(i[11])\nfire_place = np.array(fire_place, dtype='float64')\nfire_place = fire_place.reshape(1, -1)\n\n\nLand_area = np.array(Land_area, dtype='float64')\nLiving_area = np.array(Living_area, dtype='float64')\nprice = np.array(price, dtype='float64')\n\nLand_area = Land_area.reshape(1, -1)\nLiving_area = Living_area.reshape(1, -1)\n\nx_train = np.concatenate((Land_area, Living_area, bathrooms, garages, rooms, bedroom, age_of_home, cons, arch, fire_place), axis=0)\nx_train = x_train.swapaxes(0, 1)\ny_train = price\n\nX = x_train\nY = y_train\n\nweight = np.zeros((1, x_train.shape[1]))\nbias = 0.0\nLR = 0.02\nepochs = 360000",
      "metadata": {
        "trusted": true
      },
      "execution_count": 1,
      "outputs": []
    },
    {
      "cell_type": "code",
      "source": "# training loop\nfor i in range(epochs): \n\n    # make prediction\n    Y_pred = np.matmul(X, weight.T) + bias\n\n    # calcuate weight and bias update\n    weight_update = (-2/(1000)) * np.dot( (Y - Y_pred).T, X) \n    bias_update = (-2/(1000)) * np.sum(Y - Y_pred) \n\n    # add updates to weights and bias\n    weight = weight - LR * weight_update  # Update m\n    bias = bias - LR * bias_update  # Update c\n\n    # calacute loss \n    MSE1 = np.square(np.subtract(y_train, Y_pred)).mean()\n    \n    # testing data predictions and loss",
      "metadata": {
        "trusted": true
      },
      "execution_count": 2,
      "outputs": []
    },
    {
      "cell_type": "code",
      "source": "print(\"train loss:\", MSE1, \"epoch:\", i)",
      "metadata": {
        "trusted": true
      },
      "execution_count": 3,
      "outputs": [
        {
          "name": "stdout",
          "text": "train loss: 1.689694796165722 epoch: 359999\n",
          "output_type": "stream"
        }
      ]
    },
    {
      "cell_type": "markdown",
      "source": "1. What is the average least squares error for the given data using your simple linear regression\nmodel? \n\nAnswer: 1.689\n\n2. Which factor has the most effect on the final value? How do you know this? Can you use only\nthis feature to predict the price?\n\nAnswer: Living room, because I took every feature out and when this feature was out I got the highest MSE. And no you can not use only living room for predicting the price. The MSE was 21.72\n\n3. Which factor has the least effect on the final value? How do you know this? What effect does\nremoving this feature have on the performance?\n\nAnswer: Number of Bedroom, when I took this feature out the model still had the lowest MSE out of the other features. It has almost no effect with a MSE of 1.69 when its took out vs 1.689 when it's in.\n",
      "metadata": {}
    },
    {
      "cell_type": "code",
      "source": "",
      "metadata": {},
      "execution_count": null,
      "outputs": []
    }
  ]
}